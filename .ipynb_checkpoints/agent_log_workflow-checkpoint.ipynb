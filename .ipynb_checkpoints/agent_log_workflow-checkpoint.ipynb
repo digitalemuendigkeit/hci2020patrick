{
 "cells": [
  {
   "cell_type": "markdown",
   "metadata": {},
   "source": [
    "## Prerequisites"
   ]
  },
  {
   "cell_type": "code",
   "execution_count": 70,
   "metadata": {},
   "outputs": [],
   "source": [
    "# imports\n",
    "import pandas as pd\n",
    "import os\n",
    "import seaborn as sns\n",
    "import matplotlib.pyplot as plt\n",
    "from sklearn.model_selection import train_test_split\n",
    "from sklearn.preprocessing import MinMaxScaler\n",
    "from sklearn.linear_model import LinearRegression"
   ]
  },
  {
   "cell_type": "markdown",
   "metadata": {},
   "source": [
    "At any point in the analysis, the configurations can be accessed through the `configs` dataframe."
   ]
  },
  {
   "cell_type": "code",
   "execution_count": 5,
   "metadata": {},
   "outputs": [],
   "source": [
    "# configurations for reference\n",
    "configs = pd.DataFrame(\n",
    "    {\n",
    "        'ConfigNr': range(1, 19),\n",
    "        'FriendRecTechnique': ['Hyb', 'NoN', 'Rdm'] * 6,\n",
    "        'UnfriendThresh': (['low'] * 3 + ['medium'] * 3 + ['high'] * 3) * 2,\n",
    "        'AgentCount': [100] * 9 + [1000] * 9\n",
    "    }\n",
    ")"
   ]
  },
  {
   "cell_type": "markdown",
   "metadata": {},
   "source": [
    "## Helper functions"
   ]
  },
  {
   "cell_type": "markdown",
   "metadata": {},
   "source": [
    "***Format and combine.*** For some inquiries, we need to concatenate dataframes from different runs. The formatting can be simplified with the following function."
   ]
  },
  {
   "cell_type": "code",
   "execution_count": 20,
   "metadata": {},
   "outputs": [],
   "source": [
    "# combine dataframes to investigate experiment variables\n",
    "def format_combine(data_dict, keys):\n",
    "    return pd.concat(\n",
    "        [data_dict[keys[i]] for i in range(len(keys))],\n",
    "        axis=0\n",
    "    ).reset_index(drop=True).drop('Component', axis=1)"
   ]
  },
  {
   "cell_type": "markdown",
   "metadata": {},
   "source": [
    "## Load Data"
   ]
  },
  {
   "cell_type": "code",
   "execution_count": 4,
   "metadata": {},
   "outputs": [],
   "source": [
    "# load data\n",
    "data = {}\n",
    "for idx in range(len(configs)):\n",
    "    cfg = configs.iloc[idx, 1] + '_' + configs.iloc[idx, 2] + '_' + str(configs.iloc[idx, 3])\n",
    "    data[cfg] = pd.read_csv(os.path.join('dataexchange', 'BAv2_run' + str(idx + 1).zfill(2), 'agent_log.csv'))\n",
    "    data[cfg]['FriendRecScheme'] = configs.iloc[idx, 1]\n",
    "    data[cfg]['UnfriendThresh'] = configs.iloc[idx, 2]\n",
    "    data[cfg]['AgentCount'] = str(configs.iloc[idx, 3])"
   ]
  },
  {
   "cell_type": "code",
   "execution_count": 21,
   "metadata": {},
   "outputs": [],
   "source": [
    "# create complete dataframe\n",
    "df = format_combine(data, list(data.keys()))"
   ]
  },
  {
   "cell_type": "code",
   "execution_count": 22,
   "metadata": {},
   "outputs": [
    {
     "data": {
      "text/html": [
       "<div>\n",
       "<style scoped>\n",
       "    .dataframe tbody tr th:only-of-type {\n",
       "        vertical-align: middle;\n",
       "    }\n",
       "\n",
       "    .dataframe tbody tr th {\n",
       "        vertical-align: top;\n",
       "    }\n",
       "\n",
       "    .dataframe thead th {\n",
       "        text-align: right;\n",
       "    }\n",
       "</style>\n",
       "<table border=\"1\" class=\"dataframe\">\n",
       "  <thead>\n",
       "    <tr style=\"text-align: right;\">\n",
       "      <th></th>\n",
       "      <th>TickNr</th>\n",
       "      <th>AgentID</th>\n",
       "      <th>Opinion</th>\n",
       "      <th>PerceivPublOpinion</th>\n",
       "      <th>Indegree</th>\n",
       "      <th>Outdegree</th>\n",
       "      <th>Centrality</th>\n",
       "      <th>CC</th>\n",
       "      <th>FriendRecScheme</th>\n",
       "      <th>UnfriendThresh</th>\n",
       "      <th>AgentCount</th>\n",
       "    </tr>\n",
       "  </thead>\n",
       "  <tbody>\n",
       "    <tr>\n",
       "      <th>0</th>\n",
       "      <td>1</td>\n",
       "      <td>1</td>\n",
       "      <td>0.303008</td>\n",
       "      <td>-0.034709</td>\n",
       "      <td>26</td>\n",
       "      <td>28</td>\n",
       "      <td>0.575581</td>\n",
       "      <td>0.053809</td>\n",
       "      <td>Hyb</td>\n",
       "      <td>low</td>\n",
       "      <td>100</td>\n",
       "    </tr>\n",
       "    <tr>\n",
       "      <th>1</th>\n",
       "      <td>1</td>\n",
       "      <td>2</td>\n",
       "      <td>0.766807</td>\n",
       "      <td>-0.225914</td>\n",
       "      <td>26</td>\n",
       "      <td>28</td>\n",
       "      <td>0.582353</td>\n",
       "      <td>0.065339</td>\n",
       "      <td>Hyb</td>\n",
       "      <td>low</td>\n",
       "      <td>100</td>\n",
       "    </tr>\n",
       "    <tr>\n",
       "      <th>2</th>\n",
       "      <td>1</td>\n",
       "      <td>3</td>\n",
       "      <td>0.802710</td>\n",
       "      <td>-0.267763</td>\n",
       "      <td>31</td>\n",
       "      <td>30</td>\n",
       "      <td>0.589286</td>\n",
       "      <td>0.049727</td>\n",
       "      <td>Hyb</td>\n",
       "      <td>low</td>\n",
       "      <td>100</td>\n",
       "    </tr>\n",
       "    <tr>\n",
       "      <th>3</th>\n",
       "      <td>1</td>\n",
       "      <td>4</td>\n",
       "      <td>-0.232500</td>\n",
       "      <td>-0.343877</td>\n",
       "      <td>11</td>\n",
       "      <td>11</td>\n",
       "      <td>0.492537</td>\n",
       "      <td>0.038961</td>\n",
       "      <td>Hyb</td>\n",
       "      <td>low</td>\n",
       "      <td>100</td>\n",
       "    </tr>\n",
       "    <tr>\n",
       "      <th>4</th>\n",
       "      <td>1</td>\n",
       "      <td>5</td>\n",
       "      <td>0.403752</td>\n",
       "      <td>0.224035</td>\n",
       "      <td>22</td>\n",
       "      <td>22</td>\n",
       "      <td>0.559322</td>\n",
       "      <td>0.063425</td>\n",
       "      <td>Hyb</td>\n",
       "      <td>low</td>\n",
       "      <td>100</td>\n",
       "    </tr>\n",
       "  </tbody>\n",
       "</table>\n",
       "</div>"
      ],
      "text/plain": [
       "   TickNr  AgentID   Opinion  PerceivPublOpinion  Indegree  Outdegree  \\\n",
       "0       1        1  0.303008           -0.034709        26         28   \n",
       "1       1        2  0.766807           -0.225914        26         28   \n",
       "2       1        3  0.802710           -0.267763        31         30   \n",
       "3       1        4 -0.232500           -0.343877        11         11   \n",
       "4       1        5  0.403752            0.224035        22         22   \n",
       "\n",
       "   Centrality        CC FriendRecScheme UnfriendThresh AgentCount  \n",
       "0    0.575581  0.053809             Hyb            low        100  \n",
       "1    0.582353  0.065339             Hyb            low        100  \n",
       "2    0.589286  0.049727             Hyb            low        100  \n",
       "3    0.492537  0.038961             Hyb            low        100  \n",
       "4    0.559322  0.063425             Hyb            low        100  "
      ]
     },
     "execution_count": 22,
     "metadata": {},
     "output_type": "execute_result"
    }
   ],
   "source": [
    "df.head()"
   ]
  },
  {
   "cell_type": "markdown",
   "metadata": {},
   "source": [
    "## Idea 1: Build Models on Final States"
   ]
  },
  {
   "cell_type": "markdown",
   "metadata": {},
   "source": [
    "### Linear Model"
   ]
  },
  {
   "cell_type": "markdown",
   "metadata": {},
   "source": [
    "The following is a linear regression model to predict an agent's opinion from the other attributes. "
   ]
  },
  {
   "cell_type": "code",
   "execution_count": 104,
   "metadata": {},
   "outputs": [],
   "source": [
    "# subset data to retain only final state\n",
    "model_1_data = df[df['TickNr'] == 1000]\n",
    "model_1_data = model_1_data.loc[\n",
    "    :, \n",
    "    [\n",
    "        'PerceivPublOpinion', \n",
    "        'Indegree', \n",
    "        'Outdegree', \n",
    "        'Centrality', \n",
    "        'CC', \n",
    "        'Opinion'\n",
    "    ]\n",
    "]"
   ]
  },
  {
   "cell_type": "code",
   "execution_count": 106,
   "metadata": {},
   "outputs": [],
   "source": [
    "# scale data to [0, 1]\n",
    "for col_name in ['PerceivPublOpinion', 'Indegree', 'Outdegree', 'Opinion']:\n",
    "    mms = MinMaxScaler()\n",
    "    model_1_data[col_name] = mms.fit_transform(model_1_data[[col_name]])"
   ]
  },
  {
   "cell_type": "code",
   "execution_count": 107,
   "metadata": {},
   "outputs": [],
   "source": [
    "# split data into features and label\n",
    "X = model_1_data.drop(['Opinion'], axis=1).values\n",
    "y = model_1_data['Opinion']"
   ]
  },
  {
   "cell_type": "code",
   "execution_count": 108,
   "metadata": {},
   "outputs": [],
   "source": [
    "# perform train-test split\n",
    "X_train, X_test, y_train, y_test = train_test_split(X, y, test_size=0.5, random_state=0)"
   ]
  },
  {
   "cell_type": "code",
   "execution_count": 109,
   "metadata": {},
   "outputs": [
    {
     "data": {
      "text/plain": [
       "LinearRegression(copy_X=True, fit_intercept=True, n_jobs=None, normalize=False)"
      ]
     },
     "execution_count": 109,
     "metadata": {},
     "output_type": "execute_result"
    }
   ],
   "source": [
    "# fit linear regression estimator\n",
    "lm = LinearRegression()\n",
    "lm.fit(X_train, y_train)"
   ]
  },
  {
   "cell_type": "code",
   "execution_count": 110,
   "metadata": {},
   "outputs": [],
   "source": [
    "# predict test data\n",
    "y_pred = lm.predict(X_test)"
   ]
  },
  {
   "cell_type": "code",
   "execution_count": 111,
   "metadata": {},
   "outputs": [
    {
     "data": {
      "text/plain": [
       "0.802048393507757"
      ]
     },
     "execution_count": 111,
     "metadata": {},
     "output_type": "execute_result"
    }
   ],
   "source": [
    "# performance metrics\n",
    "lm.score(X_test, y_test)"
   ]
  },
  {
   "cell_type": "code",
   "execution_count": null,
   "metadata": {},
   "outputs": [],
   "source": []
  }
 ],
 "metadata": {
  "kernelspec": {
   "display_name": "hcii2020",
   "language": "python",
   "name": "hcii2020"
  },
  "language_info": {
   "codemirror_mode": {
    "name": "ipython",
    "version": 3
   },
   "file_extension": ".py",
   "mimetype": "text/x-python",
   "name": "python",
   "nbconvert_exporter": "python",
   "pygments_lexer": "ipython3",
   "version": "3.7.3"
  }
 },
 "nbformat": 4,
 "nbformat_minor": 4
}
